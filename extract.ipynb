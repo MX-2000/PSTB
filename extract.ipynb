{
 "cells": [
  {
   "cell_type": "code",
   "execution_count": 1,
   "metadata": {},
   "outputs": [
    {
     "data": {
      "text/html": [
       "<div>\n",
       "<style scoped>\n",
       "    .dataframe tbody tr th:only-of-type {\n",
       "        vertical-align: middle;\n",
       "    }\n",
       "\n",
       "    .dataframe tbody tr th {\n",
       "        vertical-align: top;\n",
       "    }\n",
       "\n",
       "    .dataframe thead th {\n",
       "        text-align: right;\n",
       "    }\n",
       "</style>\n",
       "<table border=\"1\" class=\"dataframe\">\n",
       "  <thead>\n",
       "    <tr style=\"text-align: right;\">\n",
       "      <th></th>\n",
       "      <th>deck</th>\n",
       "      <th>early_access</th>\n",
       "      <th>game_id</th>\n",
       "      <th>tag_list</th>\n",
       "      <th>title</th>\n",
       "      <th>vr_only</th>\n",
       "      <th>vr_pcinput</th>\n",
       "      <th>vr_supported</th>\n",
       "    </tr>\n",
       "  </thead>\n",
       "  <tbody>\n",
       "    <tr>\n",
       "      <th>0</th>\n",
       "      <td>NaN</td>\n",
       "      <td>False</td>\n",
       "      <td>2900</td>\n",
       "      <td>Strategy,Naval Combat,Simulation,Naval,Submarine</td>\n",
       "      <td>688(I) Hunter/Killer</td>\n",
       "      <td>False</td>\n",
       "      <td>NaN</td>\n",
       "      <td>False</td>\n",
       "    </tr>\n",
       "    <tr>\n",
       "      <th>1</th>\n",
       "      <td>NaN</td>\n",
       "      <td>False</td>\n",
       "      <td>10</td>\n",
       "      <td>Action,FPS,Multiplayer,Shooter,Classic,Team-Ba...</td>\n",
       "      <td>Counter-Strike</td>\n",
       "      <td>False</td>\n",
       "      <td>NaN</td>\n",
       "      <td>False</td>\n",
       "    </tr>\n",
       "    <tr>\n",
       "      <th>2</th>\n",
       "      <td>NaN</td>\n",
       "      <td>False</td>\n",
       "      <td>2810</td>\n",
       "      <td>Space,Simulation,Strategy,Space Sim,Sci-fi,San...</td>\n",
       "      <td>X3: Reunion</td>\n",
       "      <td>False</td>\n",
       "      <td>NaN</td>\n",
       "      <td>False</td>\n",
       "    </tr>\n",
       "    <tr>\n",
       "      <th>3</th>\n",
       "      <td>NaN</td>\n",
       "      <td>False</td>\n",
       "      <td>2870</td>\n",
       "      <td>Simulation,Space,Sci-fi,Action,Space Sim,Sandb...</td>\n",
       "      <td>X Rebirth</td>\n",
       "      <td>False</td>\n",
       "      <td>NaN</td>\n",
       "      <td>False</td>\n",
       "    </tr>\n",
       "    <tr>\n",
       "      <th>4</th>\n",
       "      <td>NaN</td>\n",
       "      <td>False</td>\n",
       "      <td>2820</td>\n",
       "      <td>Space,Simulation,Sandbox,Sci-fi,Strategy,Space...</td>\n",
       "      <td>X3: Terran Conflict</td>\n",
       "      <td>False</td>\n",
       "      <td>NaN</td>\n",
       "      <td>False</td>\n",
       "    </tr>\n",
       "  </tbody>\n",
       "</table>\n",
       "</div>"
      ],
      "text/plain": [
       "  deck  early_access  game_id  \\\n",
       "0  NaN         False     2900   \n",
       "1  NaN         False       10   \n",
       "2  NaN         False     2810   \n",
       "3  NaN         False     2870   \n",
       "4  NaN         False     2820   \n",
       "\n",
       "                                            tag_list                 title  \\\n",
       "0   Strategy,Naval Combat,Simulation,Naval,Submarine  688(I) Hunter/Killer   \n",
       "1  Action,FPS,Multiplayer,Shooter,Classic,Team-Ba...        Counter-Strike   \n",
       "2  Space,Simulation,Strategy,Space Sim,Sci-fi,San...           X3: Reunion   \n",
       "3  Simulation,Space,Sci-fi,Action,Space Sim,Sandb...             X Rebirth   \n",
       "4  Space,Simulation,Sandbox,Sci-fi,Strategy,Space...   X3: Terran Conflict   \n",
       "\n",
       "   vr_only vr_pcinput  vr_supported  \n",
       "0    False        NaN         False  \n",
       "1    False        NaN         False  \n",
       "2    False        NaN         False  \n",
       "3    False        NaN         False  \n",
       "4    False        NaN         False  "
      ]
     },
     "execution_count": 1,
     "metadata": {},
     "output_type": "execute_result"
    }
   ],
   "source": [
    "import pandas as pd\n",
    "\n",
    "data = pd.read_csv(\"game_data.csv\")\n",
    "data.head()"
   ]
  },
  {
   "cell_type": "code",
   "execution_count": 2,
   "metadata": {},
   "outputs": [
    {
     "data": {
      "text/plain": [
       "deck            62981\n",
       "early_access        0\n",
       "game_id             0\n",
       "tag_list           39\n",
       "title               5\n",
       "vr_only             0\n",
       "vr_pcinput      64802\n",
       "vr_supported        0\n",
       "dtype: int64"
      ]
     },
     "execution_count": 2,
     "metadata": {},
     "output_type": "execute_result"
    }
   ],
   "source": [
    "data.isna().sum()"
   ]
  },
  {
   "cell_type": "code",
   "execution_count": 3,
   "metadata": {},
   "outputs": [
    {
     "data": {
      "text/plain": [
       "(66267, 8)"
      ]
     },
     "execution_count": 3,
     "metadata": {},
     "output_type": "execute_result"
    }
   ],
   "source": [
    "data.shape"
   ]
  },
  {
   "cell_type": "code",
   "execution_count": 4,
   "metadata": {},
   "outputs": [],
   "source": [
    "import json \n",
    "\n",
    "lst = data[\"game_id\"].tolist()"
   ]
  },
  {
   "cell_type": "code",
   "execution_count": 5,
   "metadata": {},
   "outputs": [],
   "source": [
    "with open(\"id_list.json\",\"w\") as f: \n",
    "    f.write(json.dumps(lst))"
   ]
  },
  {
   "cell_type": "code",
   "execution_count": null,
   "metadata": {},
   "outputs": [],
   "source": []
  }
 ],
 "metadata": {
  "kernelspec": {
   "display_name": "venv",
   "language": "python",
   "name": "python3"
  },
  "language_info": {
   "codemirror_mode": {
    "name": "ipython",
    "version": 3
   },
   "file_extension": ".py",
   "mimetype": "text/x-python",
   "name": "python",
   "nbconvert_exporter": "python",
   "pygments_lexer": "ipython3",
   "version": "3.11.7"
  }
 },
 "nbformat": 4,
 "nbformat_minor": 2
}
